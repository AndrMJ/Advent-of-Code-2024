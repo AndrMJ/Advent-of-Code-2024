{
 "cells": [
  {
   "cell_type": "code",
   "execution_count": 74,
   "metadata": {},
   "outputs": [
    {
     "name": "stdout",
     "output_type": "stream",
     "text": [
      "520\n"
     ]
    }
   ],
   "source": [
    "reports = []\n",
    "with open('input.txt', 'r') as file:\n",
    "        for line in file:\n",
    "            # Convert the line of text into a list of integers\n",
    "            report = list(map(int, line.split()))\n",
    "            reports.append(report)\n",
    "\n",
    "\n",
    "\n",
    "def safe_report(report):\n",
    "    decreasing  = True\n",
    "    increasing = True\n",
    "\n",
    "    for i in range(len(report) - 1):\n",
    "        diff = abs(report[i] - report[i + 1])\n",
    "        \n",
    "        if diff < 1 or diff > 3:\n",
    "            return False\n",
    "        \n",
    "        if report[i] < report[i + 1]:\n",
    "            decreasing = False\n",
    "\n",
    "        if report[i] > report[i + 1]:\n",
    "            increasing = False\n",
    "\n",
    "    if increasing or decreasing:\n",
    "        return True\n",
    "    \n",
    "\n",
    "safe = 0\n",
    "for report in reports:\n",
    "\n",
    "    if safe_report(report):\n",
    "        safe += 1\n",
    "    else:\n",
    "        for level in range(len(report)):\n",
    "            new_report = [x for i, x in enumerate(report) if i != level]\n",
    "            if safe_report(new_report):\n",
    "                safe += 1\n",
    "                break\n",
    "\n",
    "\n",
    "print(safe)\n"
   ]
  },
  {
   "cell_type": "code",
   "execution_count": null,
   "metadata": {},
   "outputs": [],
   "source": []
  }
 ],
 "metadata": {
  "kernelspec": {
   "display_name": "Python 3",
   "language": "python",
   "name": "python3"
  },
  "language_info": {
   "codemirror_mode": {
    "name": "ipython",
    "version": 3
   },
   "file_extension": ".py",
   "mimetype": "text/x-python",
   "name": "python",
   "nbconvert_exporter": "python",
   "pygments_lexer": "ipython3",
   "version": "3.12.0"
  }
 },
 "nbformat": 4,
 "nbformat_minor": 2
}
