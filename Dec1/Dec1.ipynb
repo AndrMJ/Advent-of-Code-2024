{
 "cells": [
  {
   "cell_type": "code",
   "execution_count": 47,
   "metadata": {},
   "outputs": [
    {
     "name": "stdout",
     "output_type": "stream",
     "text": [
      "sum: 1651298\n",
      "sim: 21306195\n"
     ]
    }
   ],
   "source": [
    "import pandas as pd\n",
    "\n",
    "\n",
    "# load data\n",
    "df = pd.read_csv(\"input.txt\", sep = r\"\\s+\", header = None)\n",
    "\n",
    "\n",
    "first_col = df.sort_values(by = 0, ascending=True).reset_index(drop=True)[0]\n",
    "second_col = df.sort_values(by = 1, ascending=True).reset_index(drop=True)[1]\n",
    "\n",
    "df_sorted = pd.DataFrame({\"first\": first_col, \"second\": second_col},)\n",
    "\n",
    "df_sorted['diff'] = (df_sorted['first']-df_sorted['second']).abs()\n",
    "\n",
    "sum = df_sorted['diff'].sum()\n",
    "\n",
    "print(\"sum:\", sum)\n",
    "\n",
    "similarity = 0 \n",
    "\n",
    "for val in first_col:\n",
    "    count = (second_col == val).sum()\n",
    "    similarity = similarity + (val * count)\n",
    "\n",
    "print(\"sim:\", similarity)\n",
    "\n",
    "\n",
    "\n",
    "\n",
    "\n",
    "\n"
   ]
  }
 ],
 "metadata": {
  "kernelspec": {
   "display_name": "Python 3",
   "language": "python",
   "name": "python3"
  },
  "language_info": {
   "codemirror_mode": {
    "name": "ipython",
    "version": 3
   },
   "file_extension": ".py",
   "mimetype": "text/x-python",
   "name": "python",
   "nbconvert_exporter": "python",
   "pygments_lexer": "ipython3",
   "version": "3.12.0"
  }
 },
 "nbformat": 4,
 "nbformat_minor": 2
}
