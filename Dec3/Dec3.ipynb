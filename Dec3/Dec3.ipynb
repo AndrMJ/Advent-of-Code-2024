{
 "cells": [
  {
   "cell_type": "code",
   "execution_count": 52,
   "metadata": {},
   "outputs": [
    {
     "name": "stdout",
     "output_type": "stream",
     "text": [
      "112508982\n"
     ]
    },
    {
     "name": "stderr",
     "output_type": "stream",
     "text": [
      "<>:8: SyntaxWarning: invalid escape sequence '\\('\n",
      "<>:8: SyntaxWarning: invalid escape sequence '\\('\n",
      "C:\\Users\\Bruger\\AppData\\Local\\Temp\\ipykernel_17896\\2164136069.py:8: SyntaxWarning: invalid escape sequence '\\('\n",
      "  '''\n"
     ]
    }
   ],
   "source": [
    "import re\n",
    "\n",
    "lines = []\n",
    "with open('input.txt', 'r') as file:\n",
    "        for line in file:\n",
    "            lines.append(line)\n",
    "\n",
    "'''\n",
    "sum = 0\n",
    "for line in lines:\n",
    "    prod = 0\n",
    "    mul = re.findall(r\"mul\\((\\d+),\\s*(\\d+)\\)\", line)\n",
    "    for a, b in mul:\n",
    "         prod = prod + (int(a) * int(b))\n",
    "    sum = sum + prod\n",
    "'''         \n",
    "\n",
    "\n",
    "sum2 = 0\n",
    "for line in lines:\n",
    "\n",
    "    prod = 0\n",
    "    index = 0\n",
    "    mul_enab = True\n",
    "\n",
    "    while index < len(line):\n",
    "        if line[index:index+4] == \"do()\":\n",
    "            mul_enab = True\n",
    "            index += 1\n",
    "        elif line[index:index+7] == \"don't()\":\n",
    "            mul_enab = False\n",
    "            index += 1\n",
    "        else:\n",
    "            mul_check = re.match(r\"mul\\((\\d+),\\s*(\\d+)\\)\", line[index:])\n",
    "            if mul_check and mul_enab:\n",
    "                a, b = mul_check.groups()\n",
    "                prod = prod + (int(a) * int(b))\n",
    "\n",
    "                index += 1  \n",
    "            else:\n",
    "                index += 1\n",
    "    sum2 = sum2 + prod\n",
    "print(sum2)\n"
   ]
  }
 ],
 "metadata": {
  "kernelspec": {
   "display_name": "Python 3",
   "language": "python",
   "name": "python3"
  },
  "language_info": {
   "codemirror_mode": {
    "name": "ipython",
    "version": 3
   },
   "file_extension": ".py",
   "mimetype": "text/x-python",
   "name": "python",
   "nbconvert_exporter": "python",
   "pygments_lexer": "ipython3",
   "version": "3.12.0"
  }
 },
 "nbformat": 4,
 "nbformat_minor": 2
}
